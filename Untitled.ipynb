{
 "cells": [
  {
   "cell_type": "code",
   "execution_count": 1,
   "metadata": {},
   "outputs": [
    {
     "name": "stdout",
     "output_type": "stream",
     "text": [
      "1\n",
      "2\n",
      "3\n",
      "4\n",
      "5\n",
      "6\n",
      "7\n",
      "8\n",
      "9\n"
     ]
    }
   ],
   "source": [
    "counter = 1\n",
    "until counter == 10\n",
    "  puts counter\n",
    "  # Add code to update 'counter' here!\n",
    "  counter +=1\n",
    "end"
   ]
  },
  {
   "cell_type": "code",
   "execution_count": 2,
   "metadata": {},
   "outputs": [
    {
     "data": {
      "text/plain": [
       "true"
      ]
     },
     "execution_count": 2,
     "metadata": {},
     "output_type": "execute_result"
    }
   ],
   "source": [
    "%w[ant bear cat].all? { |word| word.length >= 3 } #=> true"
   ]
  },
  {
   "cell_type": "code",
   "execution_count": 7,
   "metadata": {},
   "outputs": [
    {
     "data": {
      "text/plain": [
       "#<Enumerator: #<Enumerator::Generator:0x007f8bdb38f8b0>:each>"
      ]
     },
     "execution_count": 7,
     "metadata": {},
     "output_type": "execute_result"
    }
   ],
   "source": [
    "arrChunks = [3, 1, 4, 1, 5, 9, 2, 6, 5, 3, 5].chunk { |n| n.even?}"
   ]
  },
  {
   "cell_type": "code",
   "execution_count": 8,
   "metadata": {},
   "outputs": [
    {
     "name": "stdout",
     "output_type": "stream",
     "text": [
      "[false, [3, 1]]\n",
      "[true, [4]]\n",
      "[false, [1, 5, 9]]\n",
      "[true, [2, 6]]\n",
      "[false, [5, 3, 5]]\n"
     ]
    }
   ],
   "source": [
    "arrChunks.each {|bool, arr| puts [bool, arr] }"
   ]
  },
  {
   "cell_type": "code",
   "execution_count": 9,
   "metadata": {},
   "outputs": [
    {
     "data": {
      "text/plain": [
       "#<Enumerator: #<Enumerator::Generator:0x007f8bd995e4a0>:each>"
      ]
     },
     "execution_count": 9,
     "metadata": {},
     "output_type": "execute_result"
    }
   ],
   "source": [
    "a = [1,2,4,9,10,11,12,15,16,19,20,21]\n",
    "b = a.chunk_while {|i, j| i+1 == j }"
   ]
  },
  {
   "cell_type": "code",
   "execution_count": 10,
   "metadata": {},
   "outputs": [
    {
     "name": "stdout",
     "output_type": "stream",
     "text": [
      "[[1, 2], [4], [9, 10, 11, 12], [15, 16], [19, 20, 21]]\n"
     ]
    },
    {
     "data": {
      "text/plain": [
       "[[1, 2], [4], [9, 10, 11, 12], [15, 16], [19, 20, 21]]"
      ]
     },
     "execution_count": 10,
     "metadata": {},
     "output_type": "execute_result"
    }
   ],
   "source": [
    "p b.to_a #=> [[1, 2], [4], [9, 10, 11, 12], [15, 16], [19, 20, 21]]"
   ]
  },
  {
   "cell_type": "code",
   "execution_count": 11,
   "metadata": {},
   "outputs": [
    {
     "name": "stdout",
     "output_type": "stream",
     "text": [
      "[[0, 9], [2, 2, 3], [2, 7], [5, 9], [5]]\n"
     ]
    },
    {
     "data": {
      "text/plain": [
       "[[0, 9], [2, 2, 3], [2, 7], [5, 9], [5]]"
      ]
     },
     "execution_count": 11,
     "metadata": {},
     "output_type": "execute_result"
    }
   ],
   "source": [
    "a = [0, 9, 2, 2, 3, 2, 7, 5, 9, 5]\n",
    "p a.chunk_while {|i, j| i <= j }.to_a\n",
    "#=> [[0, 9], [2, 2, 3], [2, 7], [5, 9], [5]]"
   ]
  },
  {
   "cell_type": "markdown",
   "metadata": {},
   "source": [
    "and we can even [link](#head1234) to it so:\n",
    "\n",
    "\n",
    "\n",
    "\n",
    "- sdfsdf\n",
    "\n",
    "\n",
    "\n",
    "- sdfsdf\n",
    "- sdf\n",
    "- sdf\n",
    "- s\n",
    "- dfs\n",
    "-df\n",
    "-- sdf\n",
    "s\n",
    "dfs\n",
    "-- df\n",
    "sd\n",
    "fs\n",
    "df\n",
    "sd\n",
    "fs\n",
    "df\n",
    "-s\n",
    "-df\n",
    "-sd\n",
    "fs\n",
    "df\n",
    "-s\n",
    "-df\n",
    "s\n",
    "-df\n",
    "sdf\n",
    "s\n",
    "-df\n",
    "-sdf\n",
    "\n",
    "\n",
    "\n",
    "\n",
    "\n",
    "\n",
    "\n",
    "\n",
    "\n",
    "\n",
    "### <a name=\"head1234\"></a>A Heading in this SO entry!"
   ]
  },
  {
   "cell_type": "code",
   "execution_count": null,
   "metadata": {
    "collapsed": true
   },
   "outputs": [],
   "source": []
  }
 ],
 "metadata": {
  "kernelspec": {
   "display_name": "Ruby 2.4.1",
   "language": "ruby",
   "name": "ruby"
  },
  "language_info": {
   "file_extension": ".rb",
   "mimetype": "application/x-ruby",
   "name": "ruby",
   "version": "2.4.1"
  }
 },
 "nbformat": 4,
 "nbformat_minor": 2
}
